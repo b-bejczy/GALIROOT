{
 "cells": [
  {
   "cell_type": "code",
   "execution_count": null,
   "metadata": {},
   "outputs": [],
   "source": [
    "import utils\n",
    "import numpy as np\n",
    "import matplotlib.pyplot as plt\n",
    "import os\n",
    "import shutil\n",
    "import cv2\n",
    "import albumentations as A\n",
    "import seaborn as sns"
   ]
  },
  {
   "cell_type": "code",
   "execution_count": null,
   "metadata": {},
   "outputs": [
    {
     "name": "stdout",
     "output_type": "stream",
     "text": [
      "3.4600903348681196\n"
     ]
    },
    {
     "data": {
      "image/png": "[encoded data removed]",
      "text/plain": [
       "<Figure size 432x288 with 1 Axes>"
      ]
     },
     "metadata": {
      "needs_background": "light"
     },
     "output_type": "display_data"
    }
   ],
   "source": [
    "def normal_dist(x , mean , sd):\n",
    "    prob_density = 1/(sd*np.sqrt(2*np.pi))* np.exp(-0.5*((x-mean)/(2*sd))**2)\n",
    "    return prob_density\n",
    "\n",
    "x = np.arange(-1, 1, 0.001)\n",
    "p = 0.4\n",
    "dist = normal_dist(x,0,0.1)\n",
    "point = normal_dist(p,0,0.1)\n",
    "m = 4\n",
    "# m = max(dist)\n",
    "real = m-dist \n",
    "\n",
    "print(m-point)\n",
    "\n",
    "# plt.plot(x,dist)\n",
    "plt.scatter(p,m-point)\n",
    "plt.plot(x,real)\n",
    "plt.show()"
   ]
  },
  {
   "cell_type": "code",
   "execution_count": null,
   "metadata": {},
   "outputs": [
    {
     "name": "stdout",
     "output_type": "stream",
     "text": [
      "tensor([[[ 1.4142]],\n",
      "\n",
      "        [[12.7279]],\n",
      "\n",
      "        [[ 1.4142]],\n",
      "\n",
      "        [[ 1.4142]]])\n"
     ]
    }
   ],
   "source": [
    "import torch\n",
    "\n",
    "a =  torch.tensor([[[1.,1.]],[[11.,11.]],[[1.,1.]],[[1.,1.]]])\n",
    "b = torch.tensor([[[2.,2.]],[[2.,2.]],[[2.,2.]],[[2.,2.]]])\n",
    "\n",
    "euc = torch.cdist(a,b)\n",
    "print(euc)"
   ]
  },
  {
   "cell_type": "code",
   "execution_count": null,
   "metadata": {},
   "outputs": [],
   "source": [
    "_,train_name = utils.list_files(\"/zhome/3b/d/154066/repos/GALIROOT/data/l515_lab_1410/img/\", \".png\")\n",
    "_,test_name = utils.list_files(\"/zhome/3b/d/154066/repos/GALIROOT/data/l515_lab_1410_test/img/\", \".png\")\n",
    "\n",
    "# d_path, d_name = utils.list_files(\"/zhome/3b/d/154066/repos/GALIROOT/data/l515_imgs\", \".png\")\n",
    "\n",
    "# test_out = \"/zhome/3b/d/154066/repos/GALIROOT/data/l515_lab_1410_test/depth/\"\n",
    "# train_out = \"/zhome/3b/d/154066/repos/GALIROOT/data/l515_lab_1410/depth/\"\n",
    "\n",
    "# def _replace_text(list, oldtext, newtext):\n",
    "#     newlist = []\n",
    "#     for name in list:\n",
    "#         name = name.replace(oldtext,newtext)\n",
    "#         newlist.append(name)\n",
    "#     return newlist\n",
    "\n",
    "# train_d_list = _replace_text(train_name, \"rgb\", \"depth\")\n",
    "# test_d_list = _replace_text(test_name, \"rgb\", \"depth\")\n",
    "\n",
    "# tc, tec = 0,0\n",
    "\n",
    "# for idx, name in enumerate(d_name):\n",
    "#     # print(name)\n",
    "#     if \"depth\" in name:\n",
    "#         if name in test_d_list:\n",
    "#             try: \n",
    "#                 shutil.copyfile(d_path[idx],test_out+f\"{name}\")\n",
    "#                 tec += 1\n",
    "#             except shutil.Error:\n",
    "#                 print(f\"{name} already exists\")\n",
    "#                 pass\n",
    "#         if name in train_d_list:\n",
    "#             try: \n",
    "#                 shutil.copyfile(d_path[idx],train_out+f\"{name}\")\n",
    "#                 tc += 1\n",
    "#             except shutil.Error:\n",
    "#                 print(f\"{name} already exists\")\n",
    "#                 pass\n",
    "\n",
    "# print(f\"train {tc} test {tec}\")"
   ]
  },
  {
   "cell_type": "code",
   "execution_count": null,
   "metadata": {},
   "outputs": [],
   "source": [
    "train_path_d,train_name_d = utils.list_files(\"/zhome/3b/d/154066/repos/GALIROOT/data/l515_lab_1410/depth/\", \".png\")\n",
    "_,test_name_d = utils.list_files(\"/zhome/3b/d/154066/repos/GALIROOT/data/l515_lab_1410_test/depth/\", \".png\")"
   ]
  },
  {
   "cell_type": "code",
   "execution_count": null,
   "metadata": {},
   "outputs": [
    {
     "name": "stdout",
     "output_type": "stream",
     "text": [
      "20200806_stengard_depth_1_1628244333438315153.png\n",
      "20200806_stengard_rgb_1_1628244333438315153.png\n",
      "20200806_stengard_depth_0_1628243926579842091.png\n",
      "20200806_stengard_rgb_0_1628243926579842091.png\n"
     ]
    }
   ],
   "source": [
    "i = np.random.randint(0,20)\n",
    "i2 = np.random.randint(0,111)\n",
    "\n",
    "print(test_name_d[i])\n",
    "print(test_name[i])\n",
    "print(train_name_d[i2])\n",
    "print(train_name[i2])"
   ]
  },
  {
   "cell_type": "code",
   "execution_count": null,
   "metadata": {},
   "outputs": [
    {
     "ename": "NameError",
     "evalue": "name 'sns' is not defined",
     "output_type": "error",
     "traceback": [
      "\u001b[0;31m---------------------------------------------------------------------------\u001b[0m",
      "\u001b[0;31mNameError\u001b[0m                                 Traceback (most recent call last)",
      "\u001b[0;32m<ipython-input-43-84e198dc3257>\u001b[0m in \u001b[0;36m<module>\u001b[0;34m\u001b[0m\n\u001b[1;32m      8\u001b[0m \u001b[0;31m# plt.hist(non_zero_image.ravel(),bins=100);\u001b[0m\u001b[0;34m\u001b[0m\u001b[0;34m\u001b[0m\u001b[0;34m\u001b[0m\u001b[0m\n\u001b[1;32m      9\u001b[0m \u001b[0;34m\u001b[0m\u001b[0m\n\u001b[0;32m---> 10\u001b[0;31m \u001b[0max\u001b[0m \u001b[0;34m=\u001b[0m \u001b[0msns\u001b[0m\u001b[0;34m.\u001b[0m\u001b[0mheatmap\u001b[0m\u001b[0;34m(\u001b[0m\u001b[0mnon_zero_image\u001b[0m\u001b[0;34m,\u001b[0m \u001b[0mlinewidth\u001b[0m\u001b[0;34m=\u001b[0m\u001b[0;36m0.5\u001b[0m\u001b[0;34m)\u001b[0m\u001b[0;34m\u001b[0m\u001b[0;34m\u001b[0m\u001b[0m\n\u001b[0m\u001b[1;32m     11\u001b[0m \u001b[0mplt\u001b[0m\u001b[0;34m.\u001b[0m\u001b[0mshow\u001b[0m\u001b[0;34m(\u001b[0m\u001b[0;34m)\u001b[0m\u001b[0;34m\u001b[0m\u001b[0;34m\u001b[0m\u001b[0m\n",
      "\u001b[0;31mNameError\u001b[0m: name 'sns' is not defined"
     ]
    }
   ],
   "source": [
    "image = cv2.imread(train_path_d[3], cv2.IMREAD_UNCHANGED )\n",
    "transform = A.Compose([A.Crop(x_min=345,y_min=365,x_max=1120,y_max=1000)])\n",
    "image = transform(image=image)\n",
    "image = image['image']\n",
    "non_zero_image = image[image!=0]\n",
    "# cv_image_norm = cv2.normalize(non_zero_image, non_zero_image, 0, 1, cv2.NORM_MINMAX)\n",
    "# print(non_zero_image.min())\n",
    "# plt.hist(non_zero_image.ravel(),bins=100);\n",
    "\n",
    "ax = sns.heatmap(non_zero_image, linewidth=0.5)\n",
    "plt.show()\n"
   ]
  }
 ],
 "metadata": {
  "interpreter": {
   "hash": "916dbcbb3f70747c44a77c7bcd40155683ae19c65e1c03b4aa3499c5328201f1"
  },
  "kernelspec": {
   "display_name": "Python 3.8.10 64-bit",
   "language": "python",
   "name": "python3"
  },
  "language_info": {
   "codemirror_mode": {
    "name": "ipython",
    "version": 3
   },
   "file_extension": ".py",
   "mimetype": "text/x-python",
   "name": "python",
   "nbconvert_exporter": "python",
   "pygments_lexer": "ipython3",
   "version": "3.8.11"
  },
  "orig_nbformat": 4
 },
 "nbformat": 4,
 "nbformat_minor": 2
}
