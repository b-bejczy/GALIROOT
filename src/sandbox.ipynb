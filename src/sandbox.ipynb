{
 "cells": [
  {
   "cell_type": "code",
   "execution_count": 1,
   "metadata": {},
   "outputs": [],
   "source": [
    "import utils\n",
    "import numpy as np\n",
    "import matplotlib.pyplot as plt\n",
    "import os\n",
    "import shutil\n",
    "import cv2\n",
    "import albumentations as A\n",
    "import seaborn as sns\n",
    "from PIL import Image"
   ]
  },
  {
   "cell_type": "code",
   "execution_count": 2,
   "metadata": {},
   "outputs": [
    {
     "data": {
      "image/png": "[encoded data removed]",
      "text/plain": [
       "<Figure size 432x288 with 1 Axes>"
      ]
     },
     "metadata": {
      "needs_background": "light"
     },
     "output_type": "display_data"
    }
   ],
   "source": [
    "def normal_dist(x , mean , sd):\n",
    "    prob_density = 1/(sd*np.sqrt(2*np.pi))* np.exp(-0.5*((x-mean)/(2*sd))**2)\n",
    "    return prob_density\n",
    "\n",
    "x = np.arange(0, 1, 0.001)\n",
    "p = 0.2\n",
    "sd = 0.1\n",
    "max = 10/(np.sqrt(2*np.pi))\n",
    "f = max-normal_dist(x,0,sd)\n",
    "loss = max-normal_dist(p,0,sd)\n",
    "\n",
    "plt.plot(x,f)\n",
    "plt.scatter(p,loss, c='r',label=\"loss {:.3f}\".format(loss))\n",
    "plt.legend()\n",
    "plt.show()"
   ]
  },
  {
   "cell_type": "code",
   "execution_count": 3,
   "metadata": {},
   "outputs": [
    {
     "name": "stdout",
     "output_type": "stream",
     "text": [
      "tensor([[[ 1.4142]],\n",
      "\n",
      "        [[12.7279]],\n",
      "\n",
      "        [[ 1.4142]],\n",
      "\n",
      "        [[ 1.4142]]])\n"
     ]
    }
   ],
   "source": [
    "import torch\n",
    "\n",
    "a =  torch.tensor([[[1.,1.]],[[11.,11.]],[[1.,1.]],[[1.,1.]]])\n",
    "b = torch.tensor([[[2.,2.]],[[2.,2.]],[[2.,2.]],[[2.,2.]]])\n",
    "\n",
    "euc = torch.cdist(a,b)\n",
    "print(euc)"
   ]
  },
  {
   "cell_type": "code",
   "execution_count": 4,
   "metadata": {},
   "outputs": [],
   "source": [
    "_,train_name = utils.list_files(\"/zhome/3b/d/154066/repos/GALIROOT/data/l515_lab_1410/img\", \".png\")\n",
    "_,test_name = utils.list_files(\"/zhome/3b/d/154066/repos/GALIROOT/data/l515_lab_1410_test/img\", \".png\")\n",
    "\n",
    "d_path, d_name = utils.list_files(\"/home/bbejczy/repos/GALIROOT/data/l515_imgs/\", \".png\")\n",
    "\n",
    "test_out = \"/home/bbejczy/repos/GALIROOT/data/l515_lab_1410_test/depth/\"\n",
    "train_out = \"/home/bbejczy/repos/GALIROOT/data/l515_lab_1410/depth/\"\n",
    "\n",
    "# def _replace_text(list, oldtext, newtext):\n",
    "#     newlist = []\n",
    "#     for name in list:\n",
    "#         name = name.replace(oldtext,newtext)\n",
    "#         newlist.append(name)\n",
    "#     return newlist\n",
    "\n",
    "# train_d_list = _replace_text(train_name, \"rgb\", \"depth\")\n",
    "# test_d_list = _replace_text(test_name, \"rgb\", \"depth\")\n",
    "\n",
    "# tc, tec = 0,0\n",
    "\n",
    "# for idx, name in enumerate(d_name):\n",
    "#     # print(name)\n",
    "#     if \"depth\" in name:\n",
    "#         if name in test_d_list:\n",
    "#             try: \n",
    "#                 shutil.copyfile(d_path[idx],test_out+f\"{name}\")\n",
    "#                 tec += 1\n",
    "#             except shutil.Error:\n",
    "#                 print(f\"{name} already exists\")\n",
    "#                 pass\n",
    "#         if name in train_d_list:\n",
    "#             try: \n",
    "#                 shutil.copyfile(d_path[idx],train_out+f\"{name}\")\n",
    "#                 tc += 1\n",
    "#             except shutil.Error:\n",
    "#                 print(f\"{name} already exists\")\n",
    "#                 pass\n",
    "\n",
    "# print(f\"train {tc} test {tec}\")"
   ]
  },
  {
   "cell_type": "code",
   "execution_count": 5,
   "metadata": {},
   "outputs": [],
   "source": [
    "train_path_d,train_name_d = utils.list_files(\"/zhome/3b/d/154066/repos/GALIROOT/data/l515_lab_1410/depth\", \".png\")\n",
    "_,test_name_d = utils.list_files(\"/zhome/3b/d/154066/repos/GALIROOT/data/l515_lab_1410_test/depth\", \".png\")"
   ]
  },
  {
   "cell_type": "code",
   "execution_count": 6,
   "metadata": {},
   "outputs": [
    {
     "name": "stdout",
     "output_type": "stream",
     "text": [
      "20200908_skaevinge_depth_0_1631091819389770508.png\n",
      "20200908_skaevinge_rgb_0_1631091819389770508.png\n",
      "20200806_stengard_depth_1_1628244235007698059.png\n",
      "20200806_stengard_rgb_1_1628244235007698059.png\n"
     ]
    }
   ],
   "source": [
    "i = np.random.randint(0,20)\n",
    "i2 = np.random.randint(0,111)\n",
    "\n",
    "print(test_name_d[i])\n",
    "print(test_name[i])\n",
    "print(train_name_d[i2])\n",
    "print(train_name[i2])"
   ]
  },
  {
   "cell_type": "code",
   "execution_count": 7,
   "metadata": {},
   "outputs": [
    {
     "data": {
      "image/png": "[encoded data removed]",
      "text/plain": [
       "<Figure size 432x288 with 1 Axes>"
      ]
     },
     "metadata": {
      "needs_background": "light"
     },
     "output_type": "display_data"
    }
   ],
   "source": [
    "image = cv2.imread(train_path_d[0], cv2.IMREAD_UNCHANGED )\n",
    "transform = A.Compose([A.Crop(x_min=345,y_min=365,x_max=1120,y_max=1000)])\n",
    "image = transform(image=image)\n",
    "image = image['image']\n",
    "non_zero_image = image[image!=0]\n",
    "# cv_image_norm = cv2.normalize(non_zero_image, non_zero_image, 0, 1, cv2.NORM_MINMAX)\n",
    "# print(non_zero_image.min())\n",
    "plt.hist(image.ravel(),bins=100);\n",
    "\n",
    "plt.show()\n"
   ]
  },
  {
   "cell_type": "code",
   "execution_count": 8,
   "metadata": {},
   "outputs": [],
   "source": [
    "CMAP_DEFAULT = 'plasma'\n",
    "\n",
    "def gray2rgb(im, cmap=CMAP_DEFAULT):\n",
    "  cmap = plt.get_cmap(cmap)\n",
    "  result_img = cmap(im.astype(np.float32))\n",
    "  if result_img.shape[2] > 3:\n",
    "    result_img = np.delete(result_img, 3, 2)\n",
    "  return result_img\n",
    "\n",
    "def normalize_depth_for_display(depth, pc=95, crop_percent=0, normalizer=None,\n",
    "                                cmap=CMAP_DEFAULT):\n",
    "  \"\"\"Converts a depth map to an RGB image.\"\"\"\n",
    "  # Convert to disparity.\n",
    "\n",
    "  disp = 1.0 / (depth + 1e-6)\n",
    "  if normalizer is not None:\n",
    "    disp /= normalizer\n",
    "  else:\n",
    "    disp /= (np.percentile(disp, pc) + 1e-6)\n",
    "  disp = np.clip(disp, 0, 1)\n",
    "  disp = gray2rgb(disp, cmap=cmap)\n",
    "  keep_h = int(disp.shape[0] * (1 - crop_percent))\n",
    "  disp = disp[:keep_h]\n",
    "  return disp\n",
    "\n",
    "image = cv2.imread(train_path_d[4], cv2.IMREAD_UNCHANGED )\n",
    "transform = A.Compose([A.Crop(x_min=345,y_min=365,x_max=1120,y_max=1000)])\n",
    "image = transform(image=image)\n",
    "image = image['image']\n",
    "\n",
    "image = normalize_depth_for_display(image)\n",
    "cv2.imshow(\"image\",image)\n",
    "cv2.waitKey(0)\n",
    "cv2.destroyAllWindows()\n"
   ]
  },
  {
   "cell_type": "code",
   "execution_count": null,
   "metadata": {},
   "outputs": [],
   "source": [
    "image_pil = np.asarray(Image.open(train_path_d[1]))\n",
    "\n",
    "transform = A.Compose([A.Crop(x_min=345,y_min=365,x_max=1120,y_max=1000),A.Normalize(mean = [441.6681], std = [37.0956])])\n",
    "\n",
    "# non_zero_image = image_pil[image_pil!=0]\n",
    "# print(non_zero_image)\n",
    "# plt.figure(1)\n",
    "# plt.hist(non_zero_image.ravel(),bins=100);\n",
    "# plt.show()\n",
    "image = transform(image=image_pil)\n",
    "image = image['image']\n",
    "\n",
    "# cv2.imshow(\"image\",image)\n",
    "# cv2.waitKey(0)\n",
    "# cv2.destroyAllWindows()\n",
    "# cv_image_norm = cv2.normalize(non_zero_image, non_zero_image, 0, 1, cv2.NORM_MINMAX)\n",
    "# print(non_zero_image.min())\n",
    "plt.figure(2)\n",
    "plt.hist(image.ravel(),bins=100);\n",
    "\n",
    "plt.show();\n",
    "\n",
    "\n"
   ]
  }
 ],
 "metadata": {
  "interpreter": {
   "hash": "916dbcbb3f70747c44a77c7bcd40155683ae19c65e1c03b4aa3499c5328201f1"
  },
  "kernelspec": {
   "display_name": "Python 3.8.10 64-bit",
   "language": "python",
   "name": "python3"
  },
  "language_info": {
   "codemirror_mode": {
    "name": "ipython",
    "version": 3
   },
   "file_extension": ".py",
   "mimetype": "text/x-python",
   "name": "python",
   "nbconvert_exporter": "python",
   "pygments_lexer": "ipython3",
   "version": "3.8.11"
  },
  "orig_nbformat": 4
 },
 "nbformat": 4,
 "nbformat_minor": 2
}
